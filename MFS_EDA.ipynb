{
  "cells": [
    {
      "cell_type": "markdown",
      "source": [
        "Installing Pdfplumber to Extract table from pdf file\n"
      ],
      "metadata": {
        "id": "gfhnZVZR9QTe"
      }
    },
    {
      "cell_type": "code",
      "source": [
        "!pip install pdfplumber"
      ],
      "metadata": {
        "colab": {
          "base_uri": "https://localhost:8080/"
        },
        "id": "KLJtufZ09Mer",
        "outputId": "a4b3272c-5d86-431e-c234-9884d5776484"
      },
      "execution_count": 26,
      "outputs": [
        {
          "output_type": "stream",
          "name": "stdout",
          "text": [
            "Requirement already satisfied: pdfplumber in /usr/local/lib/python3.11/dist-packages (0.11.5)\n",
            "Requirement already satisfied: pdfminer.six==20231228 in /usr/local/lib/python3.11/dist-packages (from pdfplumber) (20231228)\n",
            "Requirement already satisfied: Pillow>=9.1 in /usr/local/lib/python3.11/dist-packages (from pdfplumber) (11.1.0)\n",
            "Requirement already satisfied: pypdfium2>=4.18.0 in /usr/local/lib/python3.11/dist-packages (from pdfplumber) (4.30.1)\n",
            "Requirement already satisfied: charset-normalizer>=2.0.0 in /usr/local/lib/python3.11/dist-packages (from pdfminer.six==20231228->pdfplumber) (3.4.1)\n",
            "Requirement already satisfied: cryptography>=36.0.0 in /usr/local/lib/python3.11/dist-packages (from pdfminer.six==20231228->pdfplumber) (43.0.3)\n",
            "Requirement already satisfied: cffi>=1.12 in /usr/local/lib/python3.11/dist-packages (from cryptography>=36.0.0->pdfminer.six==20231228->pdfplumber) (1.17.1)\n",
            "Requirement already satisfied: pycparser in /usr/local/lib/python3.11/dist-packages (from cffi>=1.12->cryptography>=36.0.0->pdfminer.six==20231228->pdfplumber) (2.22)\n"
          ]
        }
      ]
    },
    {
      "cell_type": "markdown",
      "metadata": {
        "id": "xIbT5vKS582w"
      },
      "source": [
        "# **Exploratory Data Analysis (EDA) for MALIK Financial Services (MFS)**\n",
        "\n",
        "## **1. Importing Necessary Libraries**"
      ]
    },
    {
      "cell_type": "code",
      "execution_count": 3,
      "metadata": {
        "id": "T37sHqqt5821"
      },
      "outputs": [],
      "source": [
        "import pandas as pd  # For data manipulation and analysis\n",
        "import numpy as np  # For numerical operations\n",
        "import matplotlib.pyplot as plt  # For data visualization\n",
        "import seaborn as sns  # For statistical data visualization\n",
        "import pdfplumber  # For extracting tables from PDFs"
      ]
    },
    {
      "cell_type": "markdown",
      "metadata": {
        "id": "uUl30c6D5822"
      },
      "source": [
        "## **2. Extracting Tables from PDF**\n",
        "This function reads a PDF file, extracts tabular data from each page, and converts it into a pandas DataFrame. The first row is used as column headers."
      ]
    },
    {
      "cell_type": "code",
      "execution_count": 4,
      "metadata": {
        "id": "VhuKbLmX5823"
      },
      "outputs": [],
      "source": [
        "def extract_pdf_table(pdf_path):\n",
        "    \"\"\"\n",
        "    Extracts tabular data from a PDF file and converts it into a pandas DataFrame.\n",
        "\n",
        "    Parameters:\n",
        "        pdf_path (str): The file path of the PDF document.\n",
        "\n",
        "    Returns:\n",
        "        pd.DataFrame: A DataFrame containing the extracted table data.\n",
        "    \"\"\"\n",
        "    with pdfplumber.open(pdf_path) as pdf:  # Open the PDF file\n",
        "        table_data = []  # Initialize an empty list to store table data\n",
        "\n",
        "        for page in pdf.pages:  # Iterate through each page in the PDF\n",
        "            table = page.extract_table()  # Extract the table from the page\n",
        "            if table:  # Check if a table exists on the page\n",
        "                table_data.extend(table)  # Append extracted table rows to the list\n",
        "\n",
        "    # Convert the extracted data into a pandas DataFrame\n",
        "    # Use the first row as column headers and the rest as data\n",
        "    return pd.DataFrame(table_data[1:], columns=table_data[0])\n"
      ]
    },
    {
      "cell_type": "markdown",
      "metadata": {
        "id": "1t14k3jP5824"
      },
      "source": [
        "## **4. Loading Data from an Excel File**\n",
        "This function loads data from an Excel file into a pandas DataFrame."
      ]
    },
    {
      "cell_type": "code",
      "execution_count": 5,
      "metadata": {
        "id": "i6uT6_7N5824"
      },
      "outputs": [],
      "source": [
        "def load_excel_data(excel_path):\n",
        "    \"\"\"\n",
        "    Loads data from an Excel file into a pandas DataFrame.\n",
        "\n",
        "    Parameters:\n",
        "        excel_path (str): The file path of the Excel document.\n",
        "\n",
        "    Returns:\n",
        "        pd.DataFrame: A DataFrame containing the loaded Excel data.\n",
        "    \"\"\"\n",
        "    return pd.read_excel(excel_path)  # Read and return data from the Excel file\n"
      ]
    },
    {
      "cell_type": "markdown",
      "metadata": {
        "id": "G7U38tDg5825"
      },
      "source": [
        "## **5. Mounting Drive and File Paths of Excel and Pdf File**\n",
        "This function stores data in paths from the excel and pdf files."
      ]
    },
    {
      "cell_type": "code",
      "source": [
        "from google.colab import drive\n",
        "drive.mount('/content/drive')\n",
        "# File Paths\n",
        "pdf_path = \"/content/drive/MyDrive/MALIK_Loans_Database_Table (1).pdf\"\n",
        "excel_path = \"/content/drive/MyDrive/MALIK Loan Data (1) (1).xlsx\""
      ],
      "metadata": {
        "colab": {
          "base_uri": "https://localhost:8080/"
        },
        "id": "b7BA1B-47ccO",
        "outputId": "250785cc-c6da-4907-d9b3-ca401e28d840"
      },
      "execution_count": 25,
      "outputs": [
        {
          "output_type": "stream",
          "name": "stdout",
          "text": [
            "Drive already mounted at /content/drive; to attempt to forcibly remount, call drive.mount(\"/content/drive\", force_remount=True).\n"
          ]
        }
      ]
    },
    {
      "cell_type": "markdown",
      "metadata": {
        "id": "yWYVRd6u5826"
      },
      "source": [
        "## **6. Pdf Extraction and Basic Data Wrangling**\n",
        "The data from pdf file is extracted, then shape of date, data types, null values and duplicate values are checked."
      ]
    },
    {
      "cell_type": "code",
      "execution_count": 11,
      "metadata": {
        "colab": {
          "base_uri": "https://localhost:8080/",
          "height": 1000
        },
        "id": "YPNvwlvG5827",
        "outputId": "530fb242-b988-43c2-9844-7808873fee53"
      },
      "outputs": [
        {
          "output_type": "display_data",
          "data": {
            "text/plain": [
              "'Shape of Pdf File'"
            ],
            "application/vnd.google.colaboratory.intrinsic+json": {
              "type": "string"
            }
          },
          "metadata": {}
        },
        {
          "output_type": "display_data",
          "data": {
            "text/plain": [
              "(398, 13)"
            ]
          },
          "metadata": {}
        },
        {
          "output_type": "display_data",
          "data": {
            "text/plain": [
              "'Datatype of Pdf File'"
            ],
            "application/vnd.google.colaboratory.intrinsic+json": {
              "type": "string"
            }
          },
          "metadata": {}
        },
        {
          "output_type": "display_data",
          "data": {
            "text/plain": [
              "Loan_ID              object\n",
              "Gender               object\n",
              "Married              object\n",
              "Dependents           object\n",
              "Graduate             object\n",
              "Self_Employed        object\n",
              "ApplicantIncome      object\n",
              "CoapplicantIncome    object\n",
              "LoanAmount           object\n",
              "Loan_Amount_Term     object\n",
              "Credit_History       object\n",
              "Property_Area        object\n",
              "Loan_Status          object\n",
              "dtype: object"
            ],
            "text/html": [
              "<div>\n",
              "<style scoped>\n",
              "    .dataframe tbody tr th:only-of-type {\n",
              "        vertical-align: middle;\n",
              "    }\n",
              "\n",
              "    .dataframe tbody tr th {\n",
              "        vertical-align: top;\n",
              "    }\n",
              "\n",
              "    .dataframe thead th {\n",
              "        text-align: right;\n",
              "    }\n",
              "</style>\n",
              "<table border=\"1\" class=\"dataframe\">\n",
              "  <thead>\n",
              "    <tr style=\"text-align: right;\">\n",
              "      <th></th>\n",
              "      <th>0</th>\n",
              "    </tr>\n",
              "  </thead>\n",
              "  <tbody>\n",
              "    <tr>\n",
              "      <th>Loan_ID</th>\n",
              "      <td>object</td>\n",
              "    </tr>\n",
              "    <tr>\n",
              "      <th>Gender</th>\n",
              "      <td>object</td>\n",
              "    </tr>\n",
              "    <tr>\n",
              "      <th>Married</th>\n",
              "      <td>object</td>\n",
              "    </tr>\n",
              "    <tr>\n",
              "      <th>Dependents</th>\n",
              "      <td>object</td>\n",
              "    </tr>\n",
              "    <tr>\n",
              "      <th>Graduate</th>\n",
              "      <td>object</td>\n",
              "    </tr>\n",
              "    <tr>\n",
              "      <th>Self_Employed</th>\n",
              "      <td>object</td>\n",
              "    </tr>\n",
              "    <tr>\n",
              "      <th>ApplicantIncome</th>\n",
              "      <td>object</td>\n",
              "    </tr>\n",
              "    <tr>\n",
              "      <th>CoapplicantIncome</th>\n",
              "      <td>object</td>\n",
              "    </tr>\n",
              "    <tr>\n",
              "      <th>LoanAmount</th>\n",
              "      <td>object</td>\n",
              "    </tr>\n",
              "    <tr>\n",
              "      <th>Loan_Amount_Term</th>\n",
              "      <td>object</td>\n",
              "    </tr>\n",
              "    <tr>\n",
              "      <th>Credit_History</th>\n",
              "      <td>object</td>\n",
              "    </tr>\n",
              "    <tr>\n",
              "      <th>Property_Area</th>\n",
              "      <td>object</td>\n",
              "    </tr>\n",
              "    <tr>\n",
              "      <th>Loan_Status</th>\n",
              "      <td>object</td>\n",
              "    </tr>\n",
              "  </tbody>\n",
              "</table>\n",
              "</div><br><label><b>dtype:</b> object</label>"
            ]
          },
          "metadata": {}
        },
        {
          "output_type": "display_data",
          "data": {
            "text/plain": [
              "'Null Values in Pdf File'"
            ],
            "application/vnd.google.colaboratory.intrinsic+json": {
              "type": "string"
            }
          },
          "metadata": {}
        },
        {
          "output_type": "display_data",
          "data": {
            "text/plain": [
              "Loan_ID              0\n",
              "Gender               0\n",
              "Married              0\n",
              "Dependents           0\n",
              "Graduate             0\n",
              "Self_Employed        0\n",
              "ApplicantIncome      0\n",
              "CoapplicantIncome    0\n",
              "LoanAmount           0\n",
              "Loan_Amount_Term     0\n",
              "Credit_History       0\n",
              "Property_Area        0\n",
              "Loan_Status          0\n",
              "dtype: int64"
            ],
            "text/html": [
              "<div>\n",
              "<style scoped>\n",
              "    .dataframe tbody tr th:only-of-type {\n",
              "        vertical-align: middle;\n",
              "    }\n",
              "\n",
              "    .dataframe tbody tr th {\n",
              "        vertical-align: top;\n",
              "    }\n",
              "\n",
              "    .dataframe thead th {\n",
              "        text-align: right;\n",
              "    }\n",
              "</style>\n",
              "<table border=\"1\" class=\"dataframe\">\n",
              "  <thead>\n",
              "    <tr style=\"text-align: right;\">\n",
              "      <th></th>\n",
              "      <th>0</th>\n",
              "    </tr>\n",
              "  </thead>\n",
              "  <tbody>\n",
              "    <tr>\n",
              "      <th>Loan_ID</th>\n",
              "      <td>0</td>\n",
              "    </tr>\n",
              "    <tr>\n",
              "      <th>Gender</th>\n",
              "      <td>0</td>\n",
              "    </tr>\n",
              "    <tr>\n",
              "      <th>Married</th>\n",
              "      <td>0</td>\n",
              "    </tr>\n",
              "    <tr>\n",
              "      <th>Dependents</th>\n",
              "      <td>0</td>\n",
              "    </tr>\n",
              "    <tr>\n",
              "      <th>Graduate</th>\n",
              "      <td>0</td>\n",
              "    </tr>\n",
              "    <tr>\n",
              "      <th>Self_Employed</th>\n",
              "      <td>0</td>\n",
              "    </tr>\n",
              "    <tr>\n",
              "      <th>ApplicantIncome</th>\n",
              "      <td>0</td>\n",
              "    </tr>\n",
              "    <tr>\n",
              "      <th>CoapplicantIncome</th>\n",
              "      <td>0</td>\n",
              "    </tr>\n",
              "    <tr>\n",
              "      <th>LoanAmount</th>\n",
              "      <td>0</td>\n",
              "    </tr>\n",
              "    <tr>\n",
              "      <th>Loan_Amount_Term</th>\n",
              "      <td>0</td>\n",
              "    </tr>\n",
              "    <tr>\n",
              "      <th>Credit_History</th>\n",
              "      <td>0</td>\n",
              "    </tr>\n",
              "    <tr>\n",
              "      <th>Property_Area</th>\n",
              "      <td>0</td>\n",
              "    </tr>\n",
              "    <tr>\n",
              "      <th>Loan_Status</th>\n",
              "      <td>0</td>\n",
              "    </tr>\n",
              "  </tbody>\n",
              "</table>\n",
              "</div><br><label><b>dtype:</b> int64</label>"
            ]
          },
          "metadata": {}
        },
        {
          "output_type": "display_data",
          "data": {
            "text/plain": [
              "'Duplication in Pdf File'"
            ],
            "application/vnd.google.colaboratory.intrinsic+json": {
              "type": "string"
            }
          },
          "metadata": {}
        },
        {
          "output_type": "display_data",
          "data": {
            "text/plain": [
              "np.int64(0)"
            ]
          },
          "metadata": {}
        }
      ],
      "source": [
        "# Extracts the table data from the given PDF file\n",
        "pdf_df = extract_pdf_table(pdf_path)\n",
        "\n",
        "# Display the shape (rows, columns) of the extracted PDF DataFrame\n",
        "display(\"Shape of Pdf File\", pdf_df.shape)\n",
        "\n",
        "# Display the data types of each column in the extracted DataFrame\n",
        "display(\"Datatype of Pdf File\", pdf_df.dtypes)\n",
        "\n",
        "# Check for missing (null) values in each column of the DataFrame\n",
        "display(\"Null Values in Pdf File\", pdf_df.isnull().sum())\n",
        "\n",
        "# Check for duplicate rows in the DataFrame\n",
        "display(\"Duplication in Pdf File\", pdf_df.duplicated().sum())\n"
      ]
    },
    {
      "cell_type": "markdown",
      "metadata": {
        "id": "62TDjytx5828"
      },
      "source": [
        "## **7. Load Excel dataframe and Basic Data Wrangling**\n",
        "The data from pdf file is loaded , then shape of date, data types, null values and duplicate values are checked.There were dupliate values which are removed."
      ]
    },
    {
      "cell_type": "code",
      "execution_count": 12,
      "metadata": {
        "colab": {
          "base_uri": "https://localhost:8080/",
          "height": 1000
        },
        "id": "Xui1h6KC5829",
        "outputId": "c50d0de8-334c-442e-bc7f-b528d7115a77"
      },
      "outputs": [
        {
          "output_type": "display_data",
          "data": {
            "text/plain": [
              "'Shape of Excel File'"
            ],
            "application/vnd.google.colaboratory.intrinsic+json": {
              "type": "string"
            }
          },
          "metadata": {}
        },
        {
          "output_type": "display_data",
          "data": {
            "text/plain": [
              "(249, 13)"
            ]
          },
          "metadata": {}
        },
        {
          "output_type": "display_data",
          "data": {
            "text/plain": [
              "'Datatype of Excel File'"
            ],
            "application/vnd.google.colaboratory.intrinsic+json": {
              "type": "string"
            }
          },
          "metadata": {}
        },
        {
          "output_type": "display_data",
          "data": {
            "text/plain": [
              "Loan_ID                int64\n",
              "Gender                 int64\n",
              "Married                int64\n",
              "Dependents             int64\n",
              "Graduate               int64\n",
              "Self_Employed          int64\n",
              "ApplicantIncome        int64\n",
              "CoapplicantIncome    float64\n",
              "LoanAmount             int64\n",
              "Loan_Amount_Term       int64\n",
              "Credit_History         int64\n",
              "Property_Area          int64\n",
              "Loan_Status           object\n",
              "dtype: object"
            ],
            "text/html": [
              "<div>\n",
              "<style scoped>\n",
              "    .dataframe tbody tr th:only-of-type {\n",
              "        vertical-align: middle;\n",
              "    }\n",
              "\n",
              "    .dataframe tbody tr th {\n",
              "        vertical-align: top;\n",
              "    }\n",
              "\n",
              "    .dataframe thead th {\n",
              "        text-align: right;\n",
              "    }\n",
              "</style>\n",
              "<table border=\"1\" class=\"dataframe\">\n",
              "  <thead>\n",
              "    <tr style=\"text-align: right;\">\n",
              "      <th></th>\n",
              "      <th>0</th>\n",
              "    </tr>\n",
              "  </thead>\n",
              "  <tbody>\n",
              "    <tr>\n",
              "      <th>Loan_ID</th>\n",
              "      <td>int64</td>\n",
              "    </tr>\n",
              "    <tr>\n",
              "      <th>Gender</th>\n",
              "      <td>int64</td>\n",
              "    </tr>\n",
              "    <tr>\n",
              "      <th>Married</th>\n",
              "      <td>int64</td>\n",
              "    </tr>\n",
              "    <tr>\n",
              "      <th>Dependents</th>\n",
              "      <td>int64</td>\n",
              "    </tr>\n",
              "    <tr>\n",
              "      <th>Graduate</th>\n",
              "      <td>int64</td>\n",
              "    </tr>\n",
              "    <tr>\n",
              "      <th>Self_Employed</th>\n",
              "      <td>int64</td>\n",
              "    </tr>\n",
              "    <tr>\n",
              "      <th>ApplicantIncome</th>\n",
              "      <td>int64</td>\n",
              "    </tr>\n",
              "    <tr>\n",
              "      <th>CoapplicantIncome</th>\n",
              "      <td>float64</td>\n",
              "    </tr>\n",
              "    <tr>\n",
              "      <th>LoanAmount</th>\n",
              "      <td>int64</td>\n",
              "    </tr>\n",
              "    <tr>\n",
              "      <th>Loan_Amount_Term</th>\n",
              "      <td>int64</td>\n",
              "    </tr>\n",
              "    <tr>\n",
              "      <th>Credit_History</th>\n",
              "      <td>int64</td>\n",
              "    </tr>\n",
              "    <tr>\n",
              "      <th>Property_Area</th>\n",
              "      <td>int64</td>\n",
              "    </tr>\n",
              "    <tr>\n",
              "      <th>Loan_Status</th>\n",
              "      <td>object</td>\n",
              "    </tr>\n",
              "  </tbody>\n",
              "</table>\n",
              "</div><br><label><b>dtype:</b> object</label>"
            ]
          },
          "metadata": {}
        },
        {
          "output_type": "display_data",
          "data": {
            "text/plain": [
              "'Null Values in Excel File'"
            ],
            "application/vnd.google.colaboratory.intrinsic+json": {
              "type": "string"
            }
          },
          "metadata": {}
        },
        {
          "output_type": "display_data",
          "data": {
            "text/plain": [
              "Loan_ID              0\n",
              "Gender               0\n",
              "Married              0\n",
              "Dependents           0\n",
              "Graduate             0\n",
              "Self_Employed        0\n",
              "ApplicantIncome      0\n",
              "CoapplicantIncome    0\n",
              "LoanAmount           0\n",
              "Loan_Amount_Term     0\n",
              "Credit_History       0\n",
              "Property_Area        0\n",
              "Loan_Status          0\n",
              "dtype: int64"
            ],
            "text/html": [
              "<div>\n",
              "<style scoped>\n",
              "    .dataframe tbody tr th:only-of-type {\n",
              "        vertical-align: middle;\n",
              "    }\n",
              "\n",
              "    .dataframe tbody tr th {\n",
              "        vertical-align: top;\n",
              "    }\n",
              "\n",
              "    .dataframe thead th {\n",
              "        text-align: right;\n",
              "    }\n",
              "</style>\n",
              "<table border=\"1\" class=\"dataframe\">\n",
              "  <thead>\n",
              "    <tr style=\"text-align: right;\">\n",
              "      <th></th>\n",
              "      <th>0</th>\n",
              "    </tr>\n",
              "  </thead>\n",
              "  <tbody>\n",
              "    <tr>\n",
              "      <th>Loan_ID</th>\n",
              "      <td>0</td>\n",
              "    </tr>\n",
              "    <tr>\n",
              "      <th>Gender</th>\n",
              "      <td>0</td>\n",
              "    </tr>\n",
              "    <tr>\n",
              "      <th>Married</th>\n",
              "      <td>0</td>\n",
              "    </tr>\n",
              "    <tr>\n",
              "      <th>Dependents</th>\n",
              "      <td>0</td>\n",
              "    </tr>\n",
              "    <tr>\n",
              "      <th>Graduate</th>\n",
              "      <td>0</td>\n",
              "    </tr>\n",
              "    <tr>\n",
              "      <th>Self_Employed</th>\n",
              "      <td>0</td>\n",
              "    </tr>\n",
              "    <tr>\n",
              "      <th>ApplicantIncome</th>\n",
              "      <td>0</td>\n",
              "    </tr>\n",
              "    <tr>\n",
              "      <th>CoapplicantIncome</th>\n",
              "      <td>0</td>\n",
              "    </tr>\n",
              "    <tr>\n",
              "      <th>LoanAmount</th>\n",
              "      <td>0</td>\n",
              "    </tr>\n",
              "    <tr>\n",
              "      <th>Loan_Amount_Term</th>\n",
              "      <td>0</td>\n",
              "    </tr>\n",
              "    <tr>\n",
              "      <th>Credit_History</th>\n",
              "      <td>0</td>\n",
              "    </tr>\n",
              "    <tr>\n",
              "      <th>Property_Area</th>\n",
              "      <td>0</td>\n",
              "    </tr>\n",
              "    <tr>\n",
              "      <th>Loan_Status</th>\n",
              "      <td>0</td>\n",
              "    </tr>\n",
              "  </tbody>\n",
              "</table>\n",
              "</div><br><label><b>dtype:</b> int64</label>"
            ]
          },
          "metadata": {}
        },
        {
          "output_type": "display_data",
          "data": {
            "text/plain": [
              "'Duplication in Excel File'"
            ],
            "application/vnd.google.colaboratory.intrinsic+json": {
              "type": "string"
            }
          },
          "metadata": {}
        },
        {
          "output_type": "display_data",
          "data": {
            "text/plain": [
              "np.int64(2)"
            ]
          },
          "metadata": {}
        },
        {
          "output_type": "display_data",
          "data": {
            "text/plain": [
              "'Duplication in Excel File'"
            ],
            "application/vnd.google.colaboratory.intrinsic+json": {
              "type": "string"
            }
          },
          "metadata": {}
        },
        {
          "output_type": "display_data",
          "data": {
            "text/plain": [
              "np.int64(0)"
            ]
          },
          "metadata": {}
        }
      ],
      "source": [
        "# Load the Excel data into a pandas DataFrame\n",
        "excel_df = load_excel_data(excel_path)\n",
        "\n",
        "# Display the shape (number of rows and columns) of the DataFrame\n",
        "display(\"Shape of Excel File\", excel_df.shape)\n",
        "\n",
        "# Display the data types of each column\n",
        "display(\"Datatype of Excel File\", excel_df.dtypes)\n",
        "\n",
        "# Check and display the count of missing values in each column\n",
        "display(\"Null Values in Excel File\", excel_df.isnull().sum())\n",
        "\n",
        "# Check and display the number of duplicate rows in the dataset\n",
        "display(\"Duplication in Excel File\", excel_df.duplicated().sum())\n",
        "\n",
        "# Remove duplicate rows from the DataFrame\n",
        "excel_df = excel_df.drop_duplicates()\n",
        "\n",
        "# Verify if duplicates have been removed successfully\n",
        "display(\"Duplication in Excel File\", excel_df.duplicated().sum())\n"
      ]
    },
    {
      "cell_type": "markdown",
      "metadata": {
        "id": "tacM-LAW5829"
      },
      "source": [
        "## **7. Merge data from Excel and Pdf as a Single Dataframe and Basic Data Wrangling**\n",
        "The data from pdf and excel file are merged, then shape of date, data types, null values and duplicate values are checked."
      ]
    },
    {
      "cell_type": "code",
      "execution_count": 13,
      "metadata": {
        "colab": {
          "base_uri": "https://localhost:8080/",
          "height": 1000
        },
        "id": "z9PMWA0a582-",
        "outputId": "5ff589a6-8ce4-4480-b5b7-6a9e1ba0020b"
      },
      "outputs": [
        {
          "output_type": "display_data",
          "data": {
            "text/plain": [
              "'Shape of Merged DataFrame'"
            ],
            "application/vnd.google.colaboratory.intrinsic+json": {
              "type": "string"
            }
          },
          "metadata": {}
        },
        {
          "output_type": "display_data",
          "data": {
            "text/plain": [
              "(645, 13)"
            ]
          },
          "metadata": {}
        },
        {
          "output_type": "display_data",
          "data": {
            "text/plain": [
              "'Datatype of Merged DataFrame'"
            ],
            "application/vnd.google.colaboratory.intrinsic+json": {
              "type": "string"
            }
          },
          "metadata": {}
        },
        {
          "output_type": "display_data",
          "data": {
            "text/plain": [
              "Loan_ID              object\n",
              "Gender               object\n",
              "Married              object\n",
              "Dependents           object\n",
              "Graduate             object\n",
              "Self_Employed        object\n",
              "ApplicantIncome      object\n",
              "CoapplicantIncome    object\n",
              "LoanAmount           object\n",
              "Loan_Amount_Term     object\n",
              "Credit_History       object\n",
              "Property_Area        object\n",
              "Loan_Status          object\n",
              "dtype: object"
            ],
            "text/html": [
              "<div>\n",
              "<style scoped>\n",
              "    .dataframe tbody tr th:only-of-type {\n",
              "        vertical-align: middle;\n",
              "    }\n",
              "\n",
              "    .dataframe tbody tr th {\n",
              "        vertical-align: top;\n",
              "    }\n",
              "\n",
              "    .dataframe thead th {\n",
              "        text-align: right;\n",
              "    }\n",
              "</style>\n",
              "<table border=\"1\" class=\"dataframe\">\n",
              "  <thead>\n",
              "    <tr style=\"text-align: right;\">\n",
              "      <th></th>\n",
              "      <th>0</th>\n",
              "    </tr>\n",
              "  </thead>\n",
              "  <tbody>\n",
              "    <tr>\n",
              "      <th>Loan_ID</th>\n",
              "      <td>object</td>\n",
              "    </tr>\n",
              "    <tr>\n",
              "      <th>Gender</th>\n",
              "      <td>object</td>\n",
              "    </tr>\n",
              "    <tr>\n",
              "      <th>Married</th>\n",
              "      <td>object</td>\n",
              "    </tr>\n",
              "    <tr>\n",
              "      <th>Dependents</th>\n",
              "      <td>object</td>\n",
              "    </tr>\n",
              "    <tr>\n",
              "      <th>Graduate</th>\n",
              "      <td>object</td>\n",
              "    </tr>\n",
              "    <tr>\n",
              "      <th>Self_Employed</th>\n",
              "      <td>object</td>\n",
              "    </tr>\n",
              "    <tr>\n",
              "      <th>ApplicantIncome</th>\n",
              "      <td>object</td>\n",
              "    </tr>\n",
              "    <tr>\n",
              "      <th>CoapplicantIncome</th>\n",
              "      <td>object</td>\n",
              "    </tr>\n",
              "    <tr>\n",
              "      <th>LoanAmount</th>\n",
              "      <td>object</td>\n",
              "    </tr>\n",
              "    <tr>\n",
              "      <th>Loan_Amount_Term</th>\n",
              "      <td>object</td>\n",
              "    </tr>\n",
              "    <tr>\n",
              "      <th>Credit_History</th>\n",
              "      <td>object</td>\n",
              "    </tr>\n",
              "    <tr>\n",
              "      <th>Property_Area</th>\n",
              "      <td>object</td>\n",
              "    </tr>\n",
              "    <tr>\n",
              "      <th>Loan_Status</th>\n",
              "      <td>object</td>\n",
              "    </tr>\n",
              "  </tbody>\n",
              "</table>\n",
              "</div><br><label><b>dtype:</b> object</label>"
            ]
          },
          "metadata": {}
        },
        {
          "output_type": "display_data",
          "data": {
            "text/plain": [
              "'Null Values in Merged DataFrame'"
            ],
            "application/vnd.google.colaboratory.intrinsic+json": {
              "type": "string"
            }
          },
          "metadata": {}
        },
        {
          "output_type": "display_data",
          "data": {
            "text/plain": [
              "Loan_ID              0\n",
              "Gender               0\n",
              "Married              0\n",
              "Dependents           0\n",
              "Graduate             0\n",
              "Self_Employed        0\n",
              "ApplicantIncome      0\n",
              "CoapplicantIncome    0\n",
              "LoanAmount           0\n",
              "Loan_Amount_Term     0\n",
              "Credit_History       0\n",
              "Property_Area        0\n",
              "Loan_Status          0\n",
              "dtype: int64"
            ],
            "text/html": [
              "<div>\n",
              "<style scoped>\n",
              "    .dataframe tbody tr th:only-of-type {\n",
              "        vertical-align: middle;\n",
              "    }\n",
              "\n",
              "    .dataframe tbody tr th {\n",
              "        vertical-align: top;\n",
              "    }\n",
              "\n",
              "    .dataframe thead th {\n",
              "        text-align: right;\n",
              "    }\n",
              "</style>\n",
              "<table border=\"1\" class=\"dataframe\">\n",
              "  <thead>\n",
              "    <tr style=\"text-align: right;\">\n",
              "      <th></th>\n",
              "      <th>0</th>\n",
              "    </tr>\n",
              "  </thead>\n",
              "  <tbody>\n",
              "    <tr>\n",
              "      <th>Loan_ID</th>\n",
              "      <td>0</td>\n",
              "    </tr>\n",
              "    <tr>\n",
              "      <th>Gender</th>\n",
              "      <td>0</td>\n",
              "    </tr>\n",
              "    <tr>\n",
              "      <th>Married</th>\n",
              "      <td>0</td>\n",
              "    </tr>\n",
              "    <tr>\n",
              "      <th>Dependents</th>\n",
              "      <td>0</td>\n",
              "    </tr>\n",
              "    <tr>\n",
              "      <th>Graduate</th>\n",
              "      <td>0</td>\n",
              "    </tr>\n",
              "    <tr>\n",
              "      <th>Self_Employed</th>\n",
              "      <td>0</td>\n",
              "    </tr>\n",
              "    <tr>\n",
              "      <th>ApplicantIncome</th>\n",
              "      <td>0</td>\n",
              "    </tr>\n",
              "    <tr>\n",
              "      <th>CoapplicantIncome</th>\n",
              "      <td>0</td>\n",
              "    </tr>\n",
              "    <tr>\n",
              "      <th>LoanAmount</th>\n",
              "      <td>0</td>\n",
              "    </tr>\n",
              "    <tr>\n",
              "      <th>Loan_Amount_Term</th>\n",
              "      <td>0</td>\n",
              "    </tr>\n",
              "    <tr>\n",
              "      <th>Credit_History</th>\n",
              "      <td>0</td>\n",
              "    </tr>\n",
              "    <tr>\n",
              "      <th>Property_Area</th>\n",
              "      <td>0</td>\n",
              "    </tr>\n",
              "    <tr>\n",
              "      <th>Loan_Status</th>\n",
              "      <td>0</td>\n",
              "    </tr>\n",
              "  </tbody>\n",
              "</table>\n",
              "</div><br><label><b>dtype:</b> int64</label>"
            ]
          },
          "metadata": {}
        },
        {
          "output_type": "display_data",
          "data": {
            "text/plain": [
              "'Duplication in Merged DataFrame'"
            ],
            "application/vnd.google.colaboratory.intrinsic+json": {
              "type": "string"
            }
          },
          "metadata": {}
        },
        {
          "output_type": "display_data",
          "data": {
            "text/plain": [
              "np.int64(0)"
            ]
          },
          "metadata": {}
        }
      ],
      "source": [
        "# Merging Data from PDF and Excel Sources\n",
        "\n",
        "# Merge the two DataFrames (pdf_df and excel_df) by concatenation\n",
        "# ignore_index=True ensures that the index is reset in the merged DataFrame\n",
        "merged_df = pd.concat([pdf_df, excel_df], ignore_index=True)\n",
        "\n",
        "# Display the shape (number of rows and columns) of the merged DataFrame\n",
        "display(\"Shape of Merged DataFrame\", merged_df.shape)\n",
        "\n",
        "# Display the data types of each column in the merged DataFrame\n",
        "display(\"Datatype of Merged DataFrame\", merged_df.dtypes)\n",
        "\n",
        "# Check and display the count of missing values in each column\n",
        "display(\"Null Values in Merged DataFrame\", merged_df.isnull().sum())\n",
        "\n",
        "# Check and display the number of duplicate rows in the merged DataFrame\n",
        "display(\"Duplication in Merged DataFrame\", merged_df.duplicated().sum())\n"
      ]
    },
    {
      "cell_type": "markdown",
      "metadata": {
        "id": "jCHDejPc582-"
      },
      "source": [
        "# **8. Convert Selected Columns to Numeric Data Type**\n",
        "This code converts specific columns (`LoanAmount`, `ApplicantIncome`, `CoapplicantIncome`, `Loan_Amount_Term`) to numeric format, replacing non-numeric values with `NaN` to ensure data consistency for analysis."
      ]
    },
    {
      "cell_type": "code",
      "execution_count": 14,
      "metadata": {
        "id": "qJNyNIDf582-"
      },
      "outputs": [],
      "source": [
        "# Iterate over the specified columns to convert them to numeric values\n",
        "for col in ['LoanAmount', 'ApplicantIncome', 'CoapplicantIncome', 'Loan_Amount_Term']:\n",
        "    merged_df[col] = pd.to_numeric(merged_df[col], errors='coerce')"
      ]
    },
    {
      "cell_type": "markdown",
      "metadata": {
        "id": "B1XKdfIa582-"
      },
      "source": [
        "# **9. Convert Categorical Integers into Meaningful Labels**"
      ]
    },
    {
      "cell_type": "code",
      "execution_count": 15,
      "metadata": {
        "id": "kUQes4d-582_"
      },
      "outputs": [],
      "source": [
        "# Replace numeric gender codes with descriptive labels: 1 as male and 2 as female\n",
        "merged_df['Gender'] = merged_df['Gender'].map({1: 'Male', 2: 'Female'})\n",
        "\n",
        "# Replace numeric marital status codes with descriptive labels: 0 as single and 1 as married\n",
        "merged_df['Married'] = merged_df['Married'].map({0: 'Single', 1: 'Married'})\n",
        "\n",
        "# Replace numeric education status codes with descriptive labels: 0 as no and 1 as yes\n",
        "merged_df['Graduate'] = merged_df['Graduate'].map({0: 'No', 1: 'Yes'})\n",
        "\n",
        "# Replace numeric self-employment status codes with descriptive labels: 0 as no and 1 as yes\n",
        "merged_df['Self_Employed'] = merged_df['Self_Employed'].map({0: 'No', 1: 'Yes'})\n",
        "\n",
        "# Replace numeric credit history codes with descriptive labels: 0 as no and 1 as yes\n",
        "merged_df['Credit_History'] = merged_df['Credit_History'].map({0: 'No', 1: 'Yes'})\n",
        "\n",
        "# Replace numeric property area codes with descriptive labels: 1 as urban, 2 as semiurban and 3 as rural\n",
        "merged_df['Property_Area'] = merged_df['Property_Area'].map({1: 'Urban', 2: 'Semiurban', 3: 'Rural'})\n",
        "\n",
        "# Replace loan status codes with descriptive labels: y as yes and n as no\n",
        "merged_df['Loan_Status'] = merged_df['Loan_Status'].map({'Y': 'Yes', 'N': 'No'})\n"
      ]
    },
    {
      "cell_type": "markdown",
      "metadata": {
        "id": "iOD8v930582_"
      },
      "source": [
        "# **10. Descriptive Statistics: Loan Analysis**\n",
        "- Total Loaned Amount\n",
        "- Average Loan Amount\n",
        "- Average Loab Term in months"
      ]
    },
    {
      "cell_type": "code",
      "execution_count": 16,
      "metadata": {
        "colab": {
          "base_uri": "https://localhost:8080/"
        },
        "id": "iYvV_O7L582_",
        "outputId": "671cb5fa-ddfb-4a62-d180-8b941e50587c"
      },
      "outputs": [
        {
          "output_type": "stream",
          "name": "stdout",
          "text": [
            "Total Loaned Amount: £95,557\n",
            "Average Loan Amount: £148.15\n",
            "Average Loan Term: 334.83720930232556 months\n"
          ]
        }
      ],
      "source": [
        "# sum() computes the total amount of loans granted.\n",
        "total_loaned = merged_df['LoanAmount'].sum()\n",
        "\n",
        "# mean() calculates the average loan amoun\n",
        "avg_loaned = merged_df['LoanAmount'].mean()\n",
        "\n",
        "# mean() calculates the average loan repayment term.\n",
        "avg_term = merged_df['Loan_Amount_Term'].mean()\n",
        "\n",
        "\n",
        "# Display the total amount loaned, average loan with £ sign and average term as months\n",
        "print(f'Total Loaned Amount: £{total_loaned:,}')\n",
        "print(f'Average Loan Amount: £{avg_loaned:.2f}')\n",
        "print(f'Average Loan Term: {avg_term} months')"
      ]
    },
    {
      "cell_type": "markdown",
      "metadata": {
        "id": "B2OnC8TI583A"
      },
      "source": [
        "## **11. Visualizing Loan Approval Breakdown by Gender**\n",
        "This visualization helps analyze the **loan approval status** across different genders. A count plot is used to compare the number of approved and rejected loan applications for **males and females**.\n",
        "\n"
      ]
    },
    {
      "cell_type": "code",
      "execution_count": 17,
      "metadata": {
        "colab": {
          "base_uri": "https://localhost:8080/",
          "height": 487
        },
        "id": "oBlt_gzj583A",
        "outputId": "531ce4ae-104b-4009-f372-95b034c012da"
      },
      "outputs": [
        {
          "output_type": "display_data",
          "data": {
            "text/plain": [
              "<Figure size 800x500 with 1 Axes>"
            ],
            "image/png": "[encoded data removed]"
          },
          "metadata": {}
        }
      ],
      "source": [
        "plt.figure(figsize=(8, 5))  # Set the figure size for better readability\n",
        "\n",
        "# Create a count plot to show loan approval status by gender\n",
        "sns.countplot(data=merged_df, x='Loan_Status', hue='Gender')\n",
        "\n",
        "# x=Loan_Status: Displays loan approval ('Yes') and rejection ('No') counts on the x-axis.\n",
        "# hue=Gender: Groups data by gender (Male/Female) using different colors.\n",
        "\n",
        "# Add a title to the plot\n",
        "plt.title('Loan Approval Status by Gender')\n",
        "\n",
        "# Display the plot\n",
        "plt.show()"
      ]
    },
    {
      "cell_type": "markdown",
      "metadata": {
        "id": "-EBcqhrn583A"
      },
      "source": [
        "# **12. Maximum and Minimum Loan Amount Analysis**\n",
        "- Maxinum Amount of Loan\n",
        "- Minimum Amount of Loan"
      ]
    },
    {
      "cell_type": "code",
      "execution_count": 18,
      "metadata": {
        "colab": {
          "base_uri": "https://localhost:8080/"
        },
        "id": "Hc0mRI22583B",
        "outputId": "b53abafa-7355-4923-f74a-e25263e99c2a"
      },
      "outputs": [
        {
          "output_type": "stream",
          "name": "stdout",
          "text": [
            "Max Loan Amount: £700\n",
            "Min Loan Amount: £9\n"
          ]
        }
      ],
      "source": [
        "# max() returns the highest loan amount\n",
        "max_loan = merged_df['LoanAmount'].max()\n",
        "\n",
        "# min() returns the lowest loan amount\n",
        "min_loan = merged_df['LoanAmount'].min()\n",
        "\n",
        "# display the highest and lowest amount with £ sign\n",
        "print(f'Max Loan Amount: £{max_loan:,}')\n",
        "print(f'Min Loan Amount: £{min_loan:,}')\n"
      ]
    },
    {
      "cell_type": "markdown",
      "metadata": {
        "id": "G0KiKoER583B"
      },
      "source": [
        "## **13. Loan Amount Distribution (Box Plot)**\n",
        "This visualization provides insights into the **distribution of loan amounts** using a **box plot**."
      ]
    },
    {
      "cell_type": "code",
      "execution_count": 19,
      "metadata": {
        "colab": {
          "base_uri": "https://localhost:8080/",
          "height": 410
        },
        "id": "_C_102mL583B",
        "outputId": "2eacfd2d-6a02-41ea-8d09-a483ddcda89a"
      },
      "outputs": [
        {
          "output_type": "display_data",
          "data": {
            "text/plain": [
              "<Figure size 600x400 with 1 Axes>"
            ],
            "image/png": "[encoded data removed]"
          },
          "metadata": {}
        }
      ],
      "source": [
        "plt.figure(figsize=(6, 4))  # Set the figure size for better readability\n",
        "\n",
        "# Create a box plot for Loan Amount distribution\n",
        "sns.boxplot(data=merged_df, x='LoanAmount')\n",
        "\n",
        "# data=merged_df: Uses the merged DataFrame as the data source.\n",
        "# x='LoanAmount': Displays the distribution of loan amounts along the x-axis.\n",
        "# A box plot is useful for detecting outliers and visualizing data spread.\n",
        "\n",
        "# Add a title to the plot\n",
        "plt.title('Loan Amount Distribution')\n",
        "\n",
        "# Display the plot\n",
        "plt.show()"
      ]
    },
    {
      "cell_type": "markdown",
      "metadata": {
        "id": "XokGbucz583C"
      },
      "source": [
        "## **14. Percentage of Self-Employed Loan Approvals**\n",
        "This calculation determines the **percentage of approved loans** that were given to **self-employed individuals**.\n",
        "\n"
      ]
    },
    {
      "cell_type": "code",
      "execution_count": 20,
      "metadata": {
        "colab": {
          "base_uri": "https://localhost:8080/"
        },
        "id": "o-xnaCtq583C",
        "outputId": "e2110d24-60cb-4e9d-a55c-57fc7afafbcd"
      },
      "outputs": [
        {
          "output_type": "stream",
          "name": "stdout",
          "text": [
            "Self-Employed Loan Approval Percentage: 5.18%\n"
          ]
        }
      ],
      "source": [
        "# Count the number of approved loans for self-employed individuals\n",
        "\n",
        "# Filters the dataframe where self employed == yes  and loan_status == yes, shape[0] to count numbers of such loans\n",
        "self_emp_approved = merged_df[(merged_df['Self_Employed'] == 'Yes') & (merged_df['Loan_Status'] == 'Yes')].shape[0]\n",
        "\n",
        "# filters the dataframe where loan_status == yes ,shape[0] to count numbers of such loans\n",
        "total_approved = merged_df[merged_df['Loan_Status'] == 'Yes'].shape[0]\n",
        "\n",
        "# Divides the number of approved loans for self-employed individuals by the total approved loans and multiply by 100 for percantage.\n",
        "self_emp_percentage = (self_emp_approved / total_approved) * 100\n",
        "\n",
        "# display the Self-Employed Loan Approval Percentage\n",
        "print(f'Self-Employed Loan Approval Percentage: {self_emp_percentage:.2f}%')"
      ]
    },
    {
      "cell_type": "markdown",
      "metadata": {
        "id": "UeZvvD2J583C"
      },
      "source": [
        "## **Optional: Income Distribution Analysis (Mean & Standard Deviation)**\n",
        "This code computes and displays the **average income** and **income variability** of loan applicants.\n",
        "\n"
      ]
    },
    {
      "cell_type": "code",
      "execution_count": 21,
      "metadata": {
        "colab": {
          "base_uri": "https://localhost:8080/"
        },
        "id": "Gy1T7CKT583D",
        "outputId": "f2013565-d323-4173-cc4f-84df4d779675"
      },
      "outputs": [
        {
          "output_type": "stream",
          "name": "stdout",
          "text": [
            "Average Applicant Income: £5365.59\n",
            "Standard Deviation of Applicant Income: £6021.94\n"
          ]
        }
      ],
      "source": [
        "# mean() computes the average applicant income\n",
        "income_mean = merged_df['ApplicantIncome'].mean()\n",
        "\n",
        "# std() calculates the standard deviation of applicant income\n",
        "income_std = merged_df['ApplicantIncome'].std()\n",
        "\n",
        "# display the mean and standered deviation of aplicant income\n",
        "print(f\"Average Applicant Income: £{income_mean:.2f}\")\n",
        "print(f\"Standard Deviation of Applicant Income: £{income_std:.2f}\")"
      ]
    },
    {
      "cell_type": "markdown",
      "metadata": {
        "id": "OLJ6drHZ583D"
      },
      "source": [
        "## **Optional: Income Distribution of Main Applicants (Histogram)**\n",
        "This visualization shows the **distribution of applicant incomes** using a **histogram with KDE (Kernel Density Estimation)**."
      ]
    },
    {
      "cell_type": "code",
      "execution_count": 22,
      "metadata": {
        "colab": {
          "base_uri": "https://localhost:8080/",
          "height": 487
        },
        "id": "_7GY9tS5583D",
        "outputId": "e029f867-b09b-46c9-a134-27b6e1ff5033"
      },
      "outputs": [
        {
          "output_type": "display_data",
          "data": {
            "text/plain": [
              "<Figure size 1000x500 with 1 Axes>"
            ],
            "image/png": "[encoded data removed]"
          },
          "metadata": {}
        }
      ],
      "source": [
        "plt.figure(figsize=(10, 5)) # Set the figure size for better readability\n",
        "\n",
        "# Create a histogram of applicant income with KDE (Kernel Density Estimation)\n",
        "\n",
        "# bins = 30 : Divides income values into 30 bins for better granularity.\n",
        "# kde=True: Adds a smooth Kernel Density Estimate (KDE) curve.\n",
        "# color='blue': Sets the histogram color to blue\n",
        "sns.histplot(merged_df['ApplicantIncome'], bins=30, kde=True, color='blue')\n",
        "\n",
        "# Draws a red dashed line at the mean income value\n",
        "plt.axvline(income_mean, color='red', linestyle='dashed', label=f\"Mean: £{income_mean:.2f}\")\n",
        "\n",
        "# Add vertical dashed lines for ±1 standard deviation\n",
        "# Green dashed lines mark one standard deviation above and below the mean\n",
        "plt.axvline(income_mean + income_std, color='green', linestyle='dashed', label=f\"Mean + 1 SD\")\n",
        "plt.axvline(income_mean - income_std, color='green', linestyle='dashed', label=f\"Mean - 1 SD\")\n",
        "\n",
        "# Label the X-axis (Applicant Income in £)\n",
        "plt.xlabel(\"Applicant Income (£)\")\n",
        "\n",
        "# Label the Y-axis (Frequency of Applicants)\n",
        "plt.ylabel(\"Frequency\")\n",
        "\n",
        "# Add a title for better context\n",
        "plt.title(\"Income Distribution of Main Applicants\")\n",
        "\n",
        "# Add a legend to explain the statistical markers\n",
        "plt.legend()\n",
        "\n",
        "# Display the histogram plot\n",
        "plt.show()"
      ]
    },
    {
      "cell_type": "markdown",
      "metadata": {
        "id": "Fg-TJNXG583E"
      },
      "source": [
        "## **Optional: Top 10 Applicants by Loan Amount**\n",
        "This code extracts and displays the **top 10 applicants** who received the **largest loan amounts**.\n",
        "\n"
      ]
    },
    {
      "cell_type": "code",
      "execution_count": 23,
      "metadata": {
        "colab": {
          "base_uri": "https://localhost:8080/"
        },
        "id": "E647Qcaa583E",
        "outputId": "34bfc323-2cf9-4436-c0bb-88b22ee24517"
      },
      "outputs": [
        {
          "output_type": "stream",
          "name": "stdout",
          "text": [
            "Top 10 Applicants by Loan Amount:\n",
            "    Loan_ID  ApplicantIncome  LoanAmount\n",
            "171    1585            51763         700\n",
            "130    1469            20166         650\n",
            "155    1536            39999         600\n",
            "592    2813            19484         600\n",
            "369    2191            19730         570\n",
            "518    2547            18333         500\n",
            "635    2959            12000         496\n",
            "177    1610             5516         495\n",
            "333    2101            63337         490\n",
            "308    1996            20233         480\n"
          ]
        }
      ],
      "source": [
        "# nlargest(10, 'LoanAmount'): Selects the top 10 rows with the highest loan amounts.\n",
        "# [['Loan_ID', 'ApplicantIncome', 'LoanAmount'] ]: Retains only relevant columns:\n",
        "top_10_loans = merged_df.nlargest(10, 'LoanAmount')[['Loan_ID', 'ApplicantIncome', 'LoanAmount']]\n",
        "\n",
        "# display the banner\n",
        "print(\"Top 10 Applicants by Loan Amount:\")\n",
        "\n",
        "# display the top 10 aplicant list\n",
        "print(top_10_loans)"
      ]
    },
    {
      "cell_type": "markdown",
      "metadata": {
        "id": "VG9qm_xc583F"
      },
      "source": [
        "## **Optional: Property Area Distribution of Loan Applicants**\n",
        "This visualization represents the **distribution of loan applicants** across different **property areas** (Urban, Semiurban, Rural).\n",
        "\n"
      ]
    },
    {
      "cell_type": "code",
      "execution_count": 24,
      "metadata": {
        "colab": {
          "base_uri": "https://localhost:8080/",
          "height": 574
        },
        "id": "J7RD55rK583F",
        "outputId": "588dbec6-139c-44c8-e1d9-8ba362645a7c"
      },
      "outputs": [
        {
          "output_type": "stream",
          "name": "stderr",
          "text": [
            "<ipython-input-24-e5861c47aec8>:4: FutureWarning: \n",
            "\n",
            "Passing `palette` without assigning `hue` is deprecated and will be removed in v0.14.0. Assign the `x` variable to `hue` and set `legend=False` for the same effect.\n",
            "\n",
            "  sns.countplot(x='Property_Area', data=merged_df, palette=\"Set2\")\n"
          ]
        },
        {
          "output_type": "display_data",
          "data": {
            "text/plain": [
              "<Figure size 800x500 with 1 Axes>"
            ],
            "image/png": "[encoded data removed]"
          },
          "metadata": {}
        }
      ],
      "source": [
        "plt.figure(figsize=(8, 5)) # Set figure size for better readability\n",
        "\n",
        "# Create a count plot for the 'Property_Area' column\n",
        "sns.countplot(x='Property_Area', data=merged_df, palette=\"Set2\")\n",
        "# x='Property_Area'`: Sets the X-axis as Property Area (Urban, Semiurban, Rural).\n",
        "# data=merged_df: Uses the merged dataset containing loan applicants.\n",
        "# palette=\"Set2\": Applies a visually appealing color scheme for differentiation.\n",
        "\n",
        "# Label the X-axis (Property Area)\n",
        "plt.xlabel(\"Property Area\")\n",
        "\n",
        "# Label the Y-axis (Count of Applicants)\n",
        "plt.ylabel(\"Count of Applicants\")\n",
        "\n",
        "\n",
        "# Add a title for better context\n",
        "plt.title(\"Distribution of Loan Applicants by Property Area\")\n",
        "\n",
        "# Display the plot\n",
        "plt.show()"
      ]
    }
  ],
  "metadata": {
    "kernelspec": {
      "display_name": "Python 3",
      "language": "python",
      "name": "python3"
    },
    "language_info": {
      "codemirror_mode": {
        "name": "ipython",
        "version": 3
      },
      "file_extension": ".py",
      "mimetype": "text/x-python",
      "name": "python",
      "nbconvert_exporter": "python",
      "pygments_lexer": "ipython3",
      "version": "3.13.2"
    },
    "colab": {
      "provenance": []
    }
  },
  "nbformat": 4,
  "nbformat_minor": 0
}